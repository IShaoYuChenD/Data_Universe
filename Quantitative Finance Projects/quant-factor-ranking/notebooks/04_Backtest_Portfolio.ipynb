{
 "cells": [
  {
   "cell_type": "code",
   "execution_count": 3,
   "id": "a4f7828b-13ca-429d-925e-83926db0e64d",
   "metadata": {},
   "outputs": [
    {
     "name": "stdout",
     "output_type": "stream",
     "text": [
      "Predicted ranks shape: (23, 5)\n",
      "Target shape: (113, 5)\n",
      "Prices shape: (2516, 5)\n"
     ]
    }
   ],
   "source": [
    "# 04_Backtest_Portfolio.ipynb\n",
    "\n",
    "import pandas as pd\n",
    "import numpy as np\n",
    "import os\n",
    "import matplotlib.pyplot as plt\n",
    "\n",
    "# --- Load predictions and realized data ---\n",
    "pred_ranks = pd.read_pickle(\"../data/processed/pred_ranks.pkl\")\n",
    "target = pd.read_pickle(\"../data/processed/target.pkl\")\n",
    "prices = pd.read_pickle(\"../data/processed/prices.pkl\") \n",
    "\n",
    "print(\"Predicted ranks shape:\", pred_ranks.shape)\n",
    "print(\"Target shape:\", target.shape)\n",
    "print(\"Prices shape:\", prices.shape)"
   ]
  },
  {
   "cell_type": "code",
   "execution_count": null,
   "id": "1d952a67-d72f-426d-bf6c-6296c7cd1102",
   "metadata": {},
   "outputs": [],
   "source": []
  }
 ],
 "metadata": {
  "kernelspec": {
   "display_name": "Python 3 (ipykernel)",
   "language": "python",
   "name": "python3"
  },
  "language_info": {
   "codemirror_mode": {
    "name": "ipython",
    "version": 3
   },
   "file_extension": ".py",
   "mimetype": "text/x-python",
   "name": "python",
   "nbconvert_exporter": "python",
   "pygments_lexer": "ipython3",
   "version": "3.11.7"
  }
 },
 "nbformat": 4,
 "nbformat_minor": 5
}
