{
 "cells": [
  {
   "cell_type": "code",
   "execution_count": 41,
   "id": "a4f7828b-13ca-429d-925e-83926db0e64d",
   "metadata": {},
   "outputs": [
    {
     "name": "stdout",
     "output_type": "stream",
     "text": [
      "Predicted ranks shape: (23, 5)\n",
      "Target shape: (113, 5)\n",
      "Prices shape: (2516, 5)\n",
      "\n",
      "--- Predicted ranks head ---\n",
      "                AAPL      MSFT       JPM       XOM        PG\n",
      "Date                                                        \n",
      "2023-01-31  0.300172  0.233383  0.332454  0.477767  0.390224\n",
      "2023-02-28  0.202669  0.186265  0.241581  0.281771  0.421400\n",
      "2023-03-31  0.280127  0.291004  0.320349  0.265407  0.372184\n",
      "2023-04-30  0.285628  0.350500  0.348520  0.340478  0.456608\n",
      "2023-05-31  0.161780  0.304606  0.287076  0.324135  0.317805\n",
      "\n",
      "--- Target head ---\n",
      "            AAPL  MSFT  JPM  XOM  PG\n",
      "Date                                \n",
      "2015-08-31     0     0    0    0   0\n",
      "2015-09-30     1     1    1    1   1\n",
      "2015-10-31     2     1    2    2   1\n",
      "2015-11-30     1     2    2    1   2\n",
      "2015-12-31     1     0    0    1   0\n",
      "\n",
      "--- Prices head ---\n",
      "                 AAPL       MSFT        JPM        XOM         PG\n",
      "Date                                                             \n",
      "2015-01-02  24.261049  39.933064  46.948078  58.423473  66.983498\n",
      "2015-01-05  23.577572  39.565842  45.490582  56.824890  66.665031\n",
      "2015-01-06  23.579792  38.985123  44.311050  56.522816  66.361343\n",
      "2015-01-07  23.910429  39.480442  44.378674  57.095520  66.709442\n",
      "2015-01-08  24.829126  40.641876  45.370380  58.045856  67.472321\n"
     ]
    }
   ],
   "source": [
    "# 04_Backtest_Portfolio.ipynb\n",
    "\n",
    "import pandas as pd\n",
    "import numpy as np\n",
    "import os\n",
    "import matplotlib.pyplot as plt\n",
    "\n",
    "# --- Load predictions and realized data ---\n",
    "pred_ranks = pd.read_pickle(\"../data/processed/pred_ranks.pkl\")\n",
    "target = pd.read_pickle(\"../data/processed/target.pkl\")\n",
    "prices = pd.read_pickle(\"../data/processed/prices.pkl\") \n",
    "\n",
    "print(\"Predicted ranks shape:\", pred_ranks.shape)\n",
    "print(\"Target shape:\", target.shape)\n",
    "print(\"Prices shape:\", prices.shape)\n",
    "\n",
    "# inspect the data\n",
    "print(\"\\n--- Predicted ranks head ---\")\n",
    "print(pred_ranks.head())\n",
    "\n",
    "print(\"\\n--- Target head ---\")\n",
    "print(target.head())\n",
    "\n",
    "print(\"\\n--- Prices head ---\")\n",
    "print(prices.head())"
   ]
  },
  {
   "cell_type": "code",
   "execution_count": 42,
   "id": "1d952a67-d72f-426d-bf6c-6296c7cd1102",
   "metadata": {},
   "outputs": [
    {
     "name": "stdout",
     "output_type": "stream",
     "text": [
      "Pred_ranks shape: (23, 5)\n",
      "Monthly_returns shape: (23, 5)\n"
     ]
    }
   ],
   "source": [
    "# --- Define a backtest strategy ---\n",
    "# Simple backtest strate:\n",
    "# Each period, pick top-k assets based on predicted rank.\n",
    "# Compute equal-weighted average of their realized returns.\n",
    "# --- Compute realized monthly returns ---\n",
    "monthly_returns = prices.pct_change().resample('M').last()\n",
    "\n",
    "# --- Align indices ---\n",
    "common_idx = monthly_returns.index.intersection(pred_ranks.index)\n",
    "pred_ranks = pred_ranks.loc[common_idx]\n",
    "monthly_returns = monthly_returns.loc[common_idx]\n",
    "\n",
    "print(\"Pred_ranks shape:\", pred_ranks.shape)\n",
    "print(\"Monthly_returns shape:\", monthly_returns.shape)\n"
   ]
  },
  {
   "cell_type": "code",
   "execution_count": 43,
   "id": "22623d52-1428-4e69-9056-28fc130807d8",
   "metadata": {},
   "outputs": [
    {
     "name": "stdout",
     "output_type": "stream",
     "text": [
      "Date\n",
      "2023-01-31    0.015645\n",
      "2023-02-28   -0.008572\n",
      "2023-03-31    0.010263\n",
      "2023-04-30    0.003698\n",
      "2023-05-31   -0.011313\n",
      "2023-06-30    0.009584\n",
      "2023-07-31    0.004929\n",
      "2023-08-31   -0.004778\n",
      "2023-09-30   -0.016616\n",
      "2023-10-31    0.008547\n",
      "Freq: M, dtype: float64\n"
     ]
    }
   ],
   "source": [
    "import sys, os\n",
    "sys.path.append(os.path.abspath(\"..\"))\n",
    "from src.backtest import backtest_topk\n",
    "# backtest_topk returns a Series\n",
    "# --- Run backtest ---\n",
    "portfolio_returns = backtest_topk(pred_ranks, monthly_returns, k=2)\n",
    "portfolio_returns_df = portfolio_returns.to_frame(name='ML_Portfolio')\n",
    "portfolio_returns_df['Benchmark'] = benchmark_returns\n",
    "print(portfolio_returns.head(10))\n",
    "# --- Compute cumulative returns ---\n",
    "cumulative = (1 + portfolio_returns).cumprod()  # compound rate (multiplicative)\n",
    "cumulative = cumulative.to_frame(name=\"ML_Portfolio\")  # convert Series to DataFrame with column name"
   ]
  },
  {
   "cell_type": "code",
   "execution_count": 44,
   "id": "7e0cbfa7-d73d-464b-b406-7bd23fdd41c9",
   "metadata": {},
   "outputs": [
    {
     "name": "stdout",
     "output_type": "stream",
     "text": [
      "Date\n",
      "2023-01-31    0.013458\n",
      "2023-02-28   -0.003036\n",
      "2023-03-31    0.010537\n",
      "2023-04-30    0.007309\n",
      "2023-05-31   -0.008831\n",
      "2023-06-30    0.014891\n",
      "2023-07-31    0.006297\n",
      "2023-08-31   -0.001914\n",
      "2023-09-30   -0.005348\n",
      "2023-10-31    0.004400\n",
      "Freq: M, dtype: float64\n"
     ]
    }
   ],
   "source": [
    "# Create benchmark: equal-weighted portfolio\n",
    "benchmark_returns = monthly_returns.mean(axis=1)\n",
    "benchmark_cumulative = (1 + benchmark_returns).cumprod()\n",
    "benchmark_cumulative = benchmark_cumulative.to_frame(name='Benchmark')\n",
    "print(benchmark_returns.head(10))\n",
    "# Combine ML and Benchmark for visualization\n",
    "cumulative = pd.concat([cumulative, benchmark_cumulative], axis=1)"
   ]
  },
  {
   "cell_type": "code",
   "execution_count": 45,
   "id": "6d504826-94d0-498e-a6a2-276b2837bae5",
   "metadata": {},
   "outputs": [],
   "source": [
    "# simple ML without strong features usually won’t beat an equal-weight benchmark, especially in a short horizon.\n",
    "# For demo purpose, we accecpt and move on to the next step.\n",
    "# In reality, we could Extend backtest to full history with rolling training.\n",
    "# -Add more features (macro, technical, cross-sectional factors).\n",
    "# -Try different models (XGBoost, Neural Nets).\n",
    "# -Compare Sharpe ratio, drawdowns, not just cumulative returns.\n",
    "os.makedirs(\"../data/processed\", exist_ok=True)\n",
    "\n",
    "# Save monthly returns and cumulative performance\n",
    "portfolio_returns_df.to_pickle(\"../data/processed/backtest_returns.pkl\")\n",
    "cumulative.to_pickle(\"../data/processed/backtest_cumulative.pkl\")"
   ]
  },
  {
   "cell_type": "code",
   "execution_count": null,
   "id": "71776134-f439-423f-b280-5f52a17e7423",
   "metadata": {},
   "outputs": [],
   "source": []
  },
  {
   "cell_type": "code",
   "execution_count": null,
   "id": "58653289-2f5a-4baa-977e-d277912e0e00",
   "metadata": {},
   "outputs": [],
   "source": []
  }
 ],
 "metadata": {
  "kernelspec": {
   "display_name": "Python 3 (ipykernel)",
   "language": "python",
   "name": "python3"
  },
  "language_info": {
   "codemirror_mode": {
    "name": "ipython",
    "version": 3
   },
   "file_extension": ".py",
   "mimetype": "text/x-python",
   "name": "python",
   "nbconvert_exporter": "python",
   "pygments_lexer": "ipython3",
   "version": "3.11.7"
  }
 },
 "nbformat": 4,
 "nbformat_minor": 5
}
