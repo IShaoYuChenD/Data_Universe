{
 "cells": [
  {
   "cell_type": "code",
   "execution_count": 1,
   "id": "44caa918-c964-4cf1-a0e3-979093392e8e",
   "metadata": {},
   "outputs": [],
   "source": [
    "# 01_data.ipynb\n",
    "# Purpose: Download raw equity data for a sandbox set of tickers and perform basic exploratory data analysis (EDA)."
   ]
  },
  {
   "cell_type": "code",
   "execution_count": 2,
   "id": "59b54497-6cf4-4d5f-8178-d91dac5d53ce",
   "metadata": {},
   "outputs": [],
   "source": [
    "import os\n",
    "import pandas as pd\n",
    "import yfinance as yf\n",
    "import matplotlib.pyplot as plt\n",
    "\n",
    "# Paths\n",
    "DATA_RAW = os.path.join(\"..\", \"data\", \"raw\")\n",
    "os.makedirs(DATA_RAW, exist_ok=True)\n",
    "\n",
    "# Sandbox tickers\n",
    "tickers = [\"AAPL\", \"MSFT\", \"JPM\", \"XOM\", \"PG\"]\n",
    "# In this sandbox, we work with only five tickers first as it suffices for the purpose of checking pipeline\n",
    "# AAPL (Tech)\n",
    "# MSFT (Tech)\n",
    "# JPM (Finance)\n",
    "# XOM (Energy)\n",
    "# PG (Consumer Staples)\n"
   ]
  },
  {
   "cell_type": "code",
   "execution_count": 3,
   "id": "69701a61-5780-48cd-a83e-e8348d05ca15",
   "metadata": {},
   "outputs": [
    {
     "name": "stderr",
     "output_type": "stream",
     "text": [
      "[*********************100%***********************]  1 of 1 completed\n"
     ]
    },
    {
     "name": "stdout",
     "output_type": "stream",
     "text": [
      "AAPL (2516, 5)\n"
     ]
    },
    {
     "name": "stderr",
     "output_type": "stream",
     "text": [
      "[*********************100%***********************]  1 of 1 completed\n"
     ]
    },
    {
     "name": "stdout",
     "output_type": "stream",
     "text": [
      "MSFT (2516, 5)\n"
     ]
    },
    {
     "name": "stderr",
     "output_type": "stream",
     "text": [
      "[*********************100%***********************]  1 of 1 completed\n"
     ]
    },
    {
     "name": "stdout",
     "output_type": "stream",
     "text": [
      "JPM (2516, 5)\n"
     ]
    },
    {
     "name": "stderr",
     "output_type": "stream",
     "text": [
      "[*********************100%***********************]  1 of 1 completed\n"
     ]
    },
    {
     "name": "stdout",
     "output_type": "stream",
     "text": [
      "XOM (2516, 5)\n"
     ]
    },
    {
     "name": "stderr",
     "output_type": "stream",
     "text": [
      "[*********************100%***********************]  1 of 1 completed"
     ]
    },
    {
     "name": "stdout",
     "output_type": "stream",
     "text": [
      "PG (2516, 5)\n"
     ]
    },
    {
     "name": "stderr",
     "output_type": "stream",
     "text": [
      "\n"
     ]
    }
   ],
   "source": [
    "all_data = {}\n",
    "for t in tickers:\n",
    "    df = yf.download(t, start=\"2015-01-01\", end=\"2025-01-01\", auto_adjust=True)\n",
    "    print(t, df.shape)\n",
    "    df.to_csv(os.path.join(DATA_RAW, f\"{t}.csv\"))\n",
    "    all_data[t] = df\n",
    "# here we download one by one because the bulk-download was somehow blocked by yf due to rate-limit"
   ]
  },
  {
   "cell_type": "code",
   "execution_count": 4,
   "id": "6eaaacdf-24ba-4cd5-b67c-eea7e7bb3a6a",
   "metadata": {},
   "outputs": [
    {
     "name": "stdout",
     "output_type": "stream",
     "text": [
      "AAPL shape: (2518, 5)\n",
      "                         Close                High                 Low  \\\n",
      "Price                                                                    \n",
      "Ticker                    AAPL                AAPL                AAPL   \n",
      "Date                       NaN                 NaN                 NaN   \n",
      "2015-01-02  24.261049270629883  24.729272337596463   23.82167345251905   \n",
      "2015-01-05  23.577571868896484  24.110147948537623  23.391171172179064   \n",
      "2015-01-06  23.579792022705078   23.83942229690088  23.218083238966898   \n",
      "\n",
      "                         Open     Volume  \n",
      "Price                                     \n",
      "Ticker                   AAPL       AAPL  \n",
      "Date                      NaN        NaN  \n",
      "2015-01-02  24.71817633026032  212818400  \n",
      "2015-01-05  24.03026145194082  257142000  \n",
      "2015-01-06  23.64192558989593  263188400  \n",
      "                        Close                High                 Low  \\\n",
      "Price                                                                   \n",
      "2024-12-24  257.2866516113281   257.2965955586333  254.38692663500538   \n",
      "2024-12-26  258.1037292480469   259.1799258751944   256.7186620602343   \n",
      "2024-12-27  254.6858673095703  257.78488174803636  252.16481819720389   \n",
      "2024-12-30   251.307861328125  252.60326573181473  249.86299361835324   \n",
      "2024-12-31     249.5341796875  252.38406352835983  248.54767617168994   \n",
      "\n",
      "                          Open    Volume  \n",
      "Price                                     \n",
      "2024-12-24  254.58623131585566  23234700  \n",
      "2024-12-26  257.27667867815336  27237100  \n",
      "2024-12-27  256.91793375888693  42355300  \n",
      "2024-12-30  251.33775398934142  35557500  \n",
      "2024-12-31   251.5470385357527  39480700  \n"
     ]
    },
    {
     "name": "stderr",
     "output_type": "stream",
     "text": [
      "C:\\Users\\dodo8\\AppData\\Local\\Temp\\ipykernel_27996\\899898999.py:1: UserWarning: Could not infer format, so each element will be parsed individually, falling back to `dateutil`. To ensure parsing is consistent and as-expected, please specify a format.\n",
      "  aapl = pd.read_csv(os.path.join(DATA_RAW, \"AAPL.csv\"), index_col=0, parse_dates=True)\n"
     ]
    }
   ],
   "source": [
    "aapl = pd.read_csv(os.path.join(DATA_RAW, \"AAPL.csv\"), index_col=0, parse_dates=True)\n",
    "\n",
    "print(\"AAPL shape:\", aapl.shape)\n",
    "print(aapl.head())\n",
    "print(aapl.tail())"
   ]
  },
  {
   "cell_type": "code",
   "execution_count": 9,
   "id": "62c5bf4d-106d-4cb1-b835-fc5fb7e0cf7b",
   "metadata": {},
   "outputs": [],
   "source": [
    "# we notice column levels (multi-index)\n",
    "# and the raw data carries \"Price\" and \"Ticker\". Define the following function to do a first clean-up step:\n",
    "# remove row->reindex->rename column\n",
    "def load_prices(ticker, data_path=\"..\\\\data\\\\raw\"):\n",
    "    \"\"\"Load CSV and fix columns to ['Close','High','Low','Open','Volume']\"\"\"\n",
    "    df = pd.read_csv(\n",
    "        os.path.join(data_path, f\"{ticker}.csv\"),\n",
    "        header=1,  # skip first multi-index row\n",
    "        index_col=0,\n",
    "        parse_dates=True\n",
    "    )\n",
    "    df.index.name = \"Date\"\n",
    "\n",
    "    # Rename columns to standard OHLCV\n",
    "    df.columns = [\"Close\", \"High\", \"Low\", \"Open\", \"Volume\"]\n",
    "\n",
    "    # Ensure sorted by date\n",
    "    df = df.sort_index()\n",
    "    return df"
   ]
  },
  {
   "cell_type": "code",
   "execution_count": 10,
   "id": "d1276791-75c5-4e9e-bb83-d378aec4dd2c",
   "metadata": {},
   "outputs": [
    {
     "name": "stdout",
     "output_type": "stream",
     "text": [
      "                Close       High        Low       Open       Volume\n",
      "Date                                                               \n",
      "2015-01-02  24.261049  24.729272  23.821673  24.718176  212818400.0\n",
      "2015-01-05  23.577572  24.110148  23.391171  24.030261  257142000.0\n",
      "2015-01-06  23.579792  23.839422  23.218083  23.641926  263188400.0\n",
      "2015-01-07  23.910429  24.010286  23.677426  23.788380  160423600.0\n",
      "2015-01-08  24.829126  24.886823  24.121244  24.238856  237458000.0\n",
      "                 Close        High         Low        Open      Volume\n",
      "Date                                                                  \n",
      "2024-12-26  258.103729  259.179926  256.718662  257.276679  27237100.0\n",
      "2024-12-27  254.685867  257.784882  252.164818  256.917934  42355300.0\n",
      "2024-12-30  251.307861  252.603266  249.862994  251.337754  35557500.0\n",
      "2024-12-31  249.534180  252.384064  248.547676  251.547039  39480700.0\n",
      "Date               NaN         NaN         NaN         NaN         NaN\n"
     ]
    },
    {
     "name": "stderr",
     "output_type": "stream",
     "text": [
      "C:\\Users\\dodo8\\AppData\\Local\\Temp\\ipykernel_27996\\3000014855.py:5: UserWarning: Could not infer format, so each element will be parsed individually, falling back to `dateutil`. To ensure parsing is consistent and as-expected, please specify a format.\n",
      "  df = pd.read_csv(\n"
     ]
    }
   ],
   "source": [
    "# Test with AAPL\n",
    "aapl = load_prices(\"AAPL\")\n",
    "print(aapl.head())\n",
    "print(aapl.tail())"
   ]
  },
  {
   "cell_type": "code",
   "execution_count": 11,
   "id": "aa14fe7a-d116-4bee-b66e-e4b30d01cf02",
   "metadata": {},
   "outputs": [
    {
     "name": "stdout",
     "output_type": "stream",
     "text": [
      "(2517, 5)\n",
      "                 AAPL       MSFT        JPM        XOM         PG\n",
      "Date                                                             \n",
      "2015-01-02  24.261049  39.933064  46.948078  58.423473  66.983498\n",
      "2015-01-05  23.577572  39.565842  45.490582  56.824890  66.665031\n",
      "2015-01-06  23.579792  38.985123  44.311050  56.522816  66.361343\n",
      "2015-01-07  23.910429  39.480442  44.378674  57.095520  66.709442\n",
      "2015-01-08  24.829126  40.641876  45.370380  58.045856  67.472321\n",
      "                  AAPL        MSFT         JPM         XOM          PG\n",
      "Date                                                                  \n",
      "2024-12-26  258.103729  435.715790  239.257263  103.618492  166.939346\n",
      "2024-12-27  254.685867  428.177216  237.318726  103.608765  166.321274\n",
      "2024-12-30  251.307861  422.508362  235.498260  102.908173  163.927460\n",
      "2024-12-31  249.534180  419.196533  235.882034  104.669365  164.476852\n",
      "Date               NaN         NaN         NaN         NaN         NaN\n"
     ]
    },
    {
     "name": "stderr",
     "output_type": "stream",
     "text": [
      "C:\\Users\\dodo8\\AppData\\Local\\Temp\\ipykernel_27996\\3000014855.py:5: UserWarning: Could not infer format, so each element will be parsed individually, falling back to `dateutil`. To ensure parsing is consistent and as-expected, please specify a format.\n",
      "  df = pd.read_csv(\n",
      "C:\\Users\\dodo8\\AppData\\Local\\Temp\\ipykernel_27996\\3000014855.py:5: UserWarning: Could not infer format, so each element will be parsed individually, falling back to `dateutil`. To ensure parsing is consistent and as-expected, please specify a format.\n",
      "  df = pd.read_csv(\n",
      "C:\\Users\\dodo8\\AppData\\Local\\Temp\\ipykernel_27996\\3000014855.py:5: UserWarning: Could not infer format, so each element will be parsed individually, falling back to `dateutil`. To ensure parsing is consistent and as-expected, please specify a format.\n",
      "  df = pd.read_csv(\n",
      "C:\\Users\\dodo8\\AppData\\Local\\Temp\\ipykernel_27996\\3000014855.py:5: UserWarning: Could not infer format, so each element will be parsed individually, falling back to `dateutil`. To ensure parsing is consistent and as-expected, please specify a format.\n",
      "  df = pd.read_csv(\n",
      "C:\\Users\\dodo8\\AppData\\Local\\Temp\\ipykernel_27996\\3000014855.py:5: UserWarning: Could not infer format, so each element will be parsed individually, falling back to `dateutil`. To ensure parsing is consistent and as-expected, please specify a format.\n",
      "  df = pd.read_csv(\n"
     ]
    }
   ],
   "source": [
    "# so far so good (with appl), let's continue\n",
    "# the next thing we do is to load all tickers and plot the close prices\n",
    "# to that end, we define another funcion\n",
    "def load_close_prices(tickers, data_path=\"..\\\\data\\\\raw\"):\n",
    "    \"\"\"\n",
    "    Load multiple tickers and return a wide DataFrame of Close prices.\n",
    "    Index = Date, Columns = Tickers\n",
    "    \"\"\"\n",
    "    dfs = []\n",
    "    for t in tickers:\n",
    "        df = load_prices(t, data_path)\n",
    "        dfs.append(df[\"Close\"].rename(t)) # The renamed 'Close' price series is then added to the dfs list\n",
    "    prices = pd.concat(dfs, axis=1) # join the Series horizontally\n",
    "    return prices\n",
    "\n",
    "# Test with sandbox tickers\n",
    "sandbox_tickers = [\"AAPL\", \"MSFT\", \"JPM\", \"XOM\", \"PG\"]\n",
    "prices = load_close_prices(sandbox_tickers)\n",
    "print(prices.shape)\n",
    "print(prices.head())\n",
    "print(prices.tail())\n"
   ]
  },
  {
   "cell_type": "code",
   "execution_count": 12,
   "id": "a1b6531a-e467-40e7-8534-92fc81ea9a97",
   "metadata": {},
   "outputs": [
    {
     "data": {
      "image/png": "[encoded data removed]",
      "text/plain": [
       "<Figure size 1000x500 with 1 Axes>"
      ]
     },
     "metadata": {},
     "output_type": "display_data"
    }
   ],
   "source": [
    "prices[[\"AAPL\", \"MSFT\", \"JPM\"]].plot(figsize=(10,5), title=\"Prices: AAPL, MSFT, JPM (2015–2025)\")\n",
    "plt.show()\n",
    "# quickly examine three tickers :)"
   ]
  },
  {
   "cell_type": "code",
   "execution_count": 13,
   "id": "61301788-ca7f-4f45-9b5b-19fa1867f2ad",
   "metadata": {},
   "outputs": [
    {
     "name": "stdout",
     "output_type": "stream",
     "text": [
      "Daily returns correlation matrix:\n",
      "      AAPL  MSFT   JPM   XOM    PG\n",
      "AAPL  1.00  0.68  0.42  0.30  0.37\n",
      "MSFT  0.68  1.00  0.44  0.28  0.42\n",
      "JPM   0.42  0.44  1.00  0.56  0.34\n",
      "XOM   0.30  0.28  0.56  1.00  0.26\n",
      "PG    0.37  0.42  0.34  0.26  1.00\n"
     ]
    },
    {
     "name": "stderr",
     "output_type": "stream",
     "text": [
      "C:\\Users\\dodo8\\AppData\\Local\\Temp\\ipykernel_27996\\3542229649.py:1: FutureWarning: The default fill_method='pad' in DataFrame.pct_change is deprecated and will be removed in a future version. Either fill in any non-leading NA values prior to calling pct_change or specify 'fill_method=None' to not fill NA values.\n",
      "  returns = prices.pct_change().dropna()\n"
     ]
    }
   ],
   "source": [
    "# \"fictional question\": are the daily returns of different tickers correlated? (In reality, they 'should' if they are from the same sector)\n",
    "returns = prices.pct_change().dropna()\n",
    "print(\"Daily returns correlation matrix:\")\n",
    "print(returns.corr().round(2))\n"
   ]
  },
  {
   "cell_type": "code",
   "execution_count": 15,
   "id": "7cf83af4-7739-4321-89e8-361d82c6e988",
   "metadata": {},
   "outputs": [
    {
     "name": "stdout",
     "output_type": "stream",
     "text": [
      "Missing values per ticker:\n",
      "AAPL    1\n",
      "MSFT    1\n",
      "JPM     1\n",
      "XOM     1\n",
      "PG      1\n",
      "dtype: int64\n"
     ]
    }
   ],
   "source": [
    "# next, as a precaution, we check the data quality\n",
    "print(\"Missing values per ticker:\")\n",
    "print(prices.isna().sum())\n"
   ]
  },
  {
   "cell_type": "code",
   "execution_count": 19,
   "id": "b82451ac-2dbe-485b-928b-d1631c1df76a",
   "metadata": {},
   "outputs": [
    {
     "name": "stdout",
     "output_type": "stream",
     "text": [
      "Number of unique dates: 2517\n",
      "First date: 2015-01-02 Last date: Date\n"
     ]
    }
   ],
   "source": [
    "print(\"Number of unique dates:\", prices.index.nunique())\n",
    "print(\"First date:\", prices.index.min(), \"Last date:\", prices.index.max())\n",
    "# ignore the minor issue of Last date: Date for now and continue\n"
   ]
  },
  {
   "cell_type": "code",
   "execution_count": 17,
   "id": "c92cb915-6ef0-4ceb-ae21-b61bfc4b60ec",
   "metadata": {},
   "outputs": [
    {
     "name": "stdout",
     "output_type": "stream",
     "text": [
      "Missing return counts:\n",
      "AAPL    1\n",
      "MSFT    1\n",
      "JPM     1\n",
      "XOM     1\n",
      "PG      1\n",
      "dtype: int64\n"
     ]
    },
    {
     "name": "stderr",
     "output_type": "stream",
     "text": [
      "C:\\Users\\dodo8\\AppData\\Local\\Temp\\ipykernel_27996\\680314322.py:1: FutureWarning: The default fill_method='pad' in DataFrame.pct_change is deprecated and will be removed in a future version. Either fill in any non-leading NA values prior to calling pct_change or specify 'fill_method=None' to not fill NA values.\n",
      "  returns = prices.pct_change()\n"
     ]
    }
   ],
   "source": [
    "returns = prices.pct_change()\n",
    "print(\"Missing return counts:\")\n",
    "print(returns.isna().sum())\n"
   ]
  },
  {
   "cell_type": "code",
   "execution_count": 18,
   "id": "b04eebe7-5dca-4f22-aee0-6b60944d2a8f",
   "metadata": {},
   "outputs": [
    {
     "name": "stdout",
     "output_type": "stream",
     "text": [
      "Extreme daily moves (>20%):\n",
      "AAPL    0\n",
      "MSFT    0\n",
      "JPM     0\n",
      "XOM     0\n",
      "PG      0\n",
      "dtype: int64\n"
     ]
    }
   ],
   "source": [
    "import numpy as np\n",
    "\n",
    "abs_returns = returns.abs()\n",
    "outliers = (abs_returns > 0.2).sum()   # >20% daily move\n",
    "print(\"Extreme daily moves (>20%):\")\n",
    "print(outliers)\n"
   ]
  },
  {
   "cell_type": "code",
   "execution_count": null,
   "id": "98b710ac-0048-4647-ac35-15e3511ee276",
   "metadata": {},
   "outputs": [],
   "source": [
    "# expected for large-cap S&P100 stocks."
   ]
  }
 ],
 "metadata": {
  "kernelspec": {
   "display_name": "Python 3 (ipykernel)",
   "language": "python",
   "name": "python3"
  },
  "language_info": {
   "codemirror_mode": {
    "name": "ipython",
    "version": 3
   },
   "file_extension": ".py",
   "mimetype": "text/x-python",
   "name": "python",
   "nbconvert_exporter": "python",
   "pygments_lexer": "ipython3",
   "version": "3.11.7"
  }
 },
 "nbformat": 4,
 "nbformat_minor": 5
}
