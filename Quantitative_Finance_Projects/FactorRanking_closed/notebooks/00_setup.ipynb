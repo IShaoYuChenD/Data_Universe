{
 "cells": [
  {
   "cell_type": "code",
   "execution_count": 1,
   "id": "4c4f66ba-5b24-4fda-83fb-940502672377",
   "metadata": {},
   "outputs": [],
   "source": [
    "# 00_setup.ipynb\n",
    "# Purpose: Verify environment setup, core package imports, and data folder paths."
   ]
  },
  {
   "cell_type": "code",
   "execution_count": 2,
   "id": "bce90484-7f57-48ea-865a-5aa967acefb0",
   "metadata": {},
   "outputs": [
    {
     "name": "stdout",
     "output_type": "stream",
     "text": [
      "Python: 3.11.7 | packaged by Anaconda, Inc. | (main, Dec 15 2023, 18:05:47) [MSC v.1916 64 bit (AMD64)]\n",
      "Platform: Windows-10-10.0.26100-SP0\n",
      "pandas: 2.1.4\n",
      "numpy: 1.26.4\n",
      "scikit-learn: 1.2.2\n",
      "xgboost: 3.0.2\n",
      "matplotlib: 3.8.0\n",
      "joblib: 1.2.0\n"
     ]
    }
   ],
   "source": [
    "import os, sys, platform\n",
    "import pandas, numpy, sklearn, xgboost, matplotlib, joblib\n",
    "\n",
    "print(\"Python:\", sys.version)\n",
    "print(\"Platform:\", platform.platform())\n",
    "print(\"pandas:\", pandas.__version__)\n",
    "print(\"numpy:\", numpy.__version__)\n",
    "print(\"scikit-learn:\", sklearn.__version__)\n",
    "print(\"xgboost:\", xgboost.__version__)\n",
    "print(\"matplotlib:\", matplotlib.__version__)\n",
    "print(\"joblib:\", joblib.__version__)\n"
   ]
  },
  {
   "cell_type": "code",
   "execution_count": 3,
   "id": "72d95560-cb36-44cf-b787-48dd078e2e40",
   "metadata": {},
   "outputs": [
    {
     "name": "stdout",
     "output_type": "stream",
     "text": [
      "Root: C:\\Users\\dodo8\\Machine_Learning_Projects\\Data_Universe\\quant-factor-ranking\n",
      "Raw data folder: C:\\Users\\dodo8\\Machine_Learning_Projects\\Data_Universe\\quant-factor-ranking\\data\\raw\n",
      "Processed data folder: C:\\Users\\dodo8\\Machine_Learning_Projects\\Data_Universe\\quant-factor-ranking\\data\\processed\n"
     ]
    }
   ],
   "source": [
    "# This Python code is a standard way to manage file paths in a data science project, \n",
    "# ensuring your script works correctly no matter which folder you run it from. \n",
    "# It automatically finds the project's root directory and then creates the necessary data folders.\n",
    "ROOT = os.path.abspath(\"..\") if os.getcwd().endswith(\"notebooks\") else os.getcwd()\n",
    "DATA_RAW = os.path.join(ROOT, \"data\", \"raw\")\n",
    "DATA_PROCESSED = os.path.join(ROOT, \"data\", \"processed\")\n",
    "os.makedirs(DATA_RAW, exist_ok=True)\n",
    "os.makedirs(DATA_PROCESSED, exist_ok=True)\n",
    "\n",
    "print(\"Root:\", ROOT)\n",
    "print(\"Raw data folder:\", DATA_RAW)\n",
    "print(\"Processed data folder:\", DATA_PROCESSED)\n"
   ]
  },
  {
   "cell_type": "code",
   "execution_count": 4,
   "id": "74141bed-3d13-4db5-8bf6-67bcd413d970",
   "metadata": {},
   "outputs": [
    {
     "data": {
      "text/html": [
       "<div>\n",
       "<style scoped>\n",
       "    .dataframe tbody tr th:only-of-type {\n",
       "        vertical-align: middle;\n",
       "    }\n",
       "\n",
       "    .dataframe tbody tr th {\n",
       "        vertical-align: top;\n",
       "    }\n",
       "\n",
       "    .dataframe thead th {\n",
       "        text-align: right;\n",
       "    }\n",
       "</style>\n",
       "<table border=\"1\" class=\"dataframe\">\n",
       "  <thead>\n",
       "    <tr style=\"text-align: right;\">\n",
       "      <th></th>\n",
       "      <th>a</th>\n",
       "      <th>b</th>\n",
       "    </tr>\n",
       "  </thead>\n",
       "  <tbody>\n",
       "    <tr>\n",
       "      <th>0</th>\n",
       "      <td>1</td>\n",
       "      <td>4</td>\n",
       "    </tr>\n",
       "    <tr>\n",
       "      <th>1</th>\n",
       "      <td>2</td>\n",
       "      <td>5</td>\n",
       "    </tr>\n",
       "    <tr>\n",
       "      <th>2</th>\n",
       "      <td>3</td>\n",
       "      <td>6</td>\n",
       "    </tr>\n",
       "  </tbody>\n",
       "</table>\n",
       "</div>"
      ],
      "text/plain": [
       "   a  b\n",
       "0  1  4\n",
       "1  2  5\n",
       "2  3  6"
      ]
     },
     "execution_count": 4,
     "metadata": {},
     "output_type": "execute_result"
    }
   ],
   "source": [
    "df = pandas.DataFrame({\"a\": [1,2,3], \"b\":[4,5,6]})\n",
    "df.head()\n"
   ]
  },
  {
   "cell_type": "code",
   "execution_count": null,
   "id": "7f93c37a-9ec9-49a2-9fa4-c2cb3b616d48",
   "metadata": {},
   "outputs": [],
   "source": []
  }
 ],
 "metadata": {
  "kernelspec": {
   "display_name": "Python 3 (ipykernel)",
   "language": "python",
   "name": "python3"
  },
  "language_info": {
   "codemirror_mode": {
    "name": "ipython",
    "version": 3
   },
   "file_extension": ".py",
   "mimetype": "text/x-python",
   "name": "python",
   "nbconvert_exporter": "python",
   "pygments_lexer": "ipython3",
   "version": "3.11.7"
  }
 },
 "nbformat": 4,
 "nbformat_minor": 5
}
